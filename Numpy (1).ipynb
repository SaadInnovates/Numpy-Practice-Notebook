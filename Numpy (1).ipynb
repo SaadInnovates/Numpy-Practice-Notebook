{
 "cells": [
  {
   "cell_type": "markdown",
   "id": "baf3df20-39b1-457e-93d5-27c0c0e3cee7",
   "metadata": {},
   "source": [
    "# Here, in this Jupyter notebook, you will see the whole syntax of Numerical Python which is widely used in variety of field including Machine Learning, Statistical Programming, Data Engineering and Data Analysis."
   ]
  },
  {
   "cell_type": "code",
   "execution_count": 2,
   "id": "78430246-5eea-416e-82a0-cbd57c2a89d4",
   "metadata": {},
   "outputs": [],
   "source": [
    "#import numpy to use it\n",
    "import numpy as np"
   ]
  },
  {
   "cell_type": "code",
   "execution_count": 3,
   "id": "1e8054b0-79e9-49a0-8803-efb5ecf61377",
   "metadata": {},
   "outputs": [],
   "source": [
    "#0 dimensional tensors -- scalars\n",
    "arr1=np.array(1)"
   ]
  },
  {
   "cell_type": "code",
   "execution_count": 4,
   "id": "b3da7e54-0421-48bf-aa33-65606da2d179",
   "metadata": {},
   "outputs": [
    {
     "data": {
      "text/plain": [
       "array(1)"
      ]
     },
     "execution_count": 4,
     "metadata": {},
     "output_type": "execute_result"
    }
   ],
   "source": [
    "arr1"
   ]
  },
  {
   "cell_type": "code",
   "execution_count": 5,
   "id": "341e9a6b-27be-4807-a16f-f310b1c8fa64",
   "metadata": {},
   "outputs": [],
   "source": [
    "arr2=np.array([1,2,3,4,5])"
   ]
  },
  {
   "cell_type": "code",
   "execution_count": 6,
   "id": "7738a91a-1e77-479f-a547-2746668d848e",
   "metadata": {},
   "outputs": [
    {
     "data": {
      "text/plain": [
       "array([1, 2, 3, 4, 5])"
      ]
     },
     "execution_count": 6,
     "metadata": {},
     "output_type": "execute_result"
    }
   ],
   "source": [
    "arr2"
   ]
  },
  {
   "cell_type": "code",
   "execution_count": 7,
   "id": "f77bd285-762d-4d66-99a3-68d1c4db36ef",
   "metadata": {},
   "outputs": [],
   "source": [
    "arr3=np.array([[1,2,3],[4,5,6]])"
   ]
  },
  {
   "cell_type": "code",
   "execution_count": 8,
   "id": "b49138ea-f0c7-4e78-aae0-1ca3d080da21",
   "metadata": {},
   "outputs": [
    {
     "data": {
      "text/plain": [
       "array([[1, 2, 3],\n",
       "       [4, 5, 6]])"
      ]
     },
     "execution_count": 8,
     "metadata": {},
     "output_type": "execute_result"
    }
   ],
   "source": [
    "arr3"
   ]
  },
  {
   "cell_type": "code",
   "execution_count": 9,
   "id": "a65acbef-016b-4d3d-8271-ed73355c4deb",
   "metadata": {},
   "outputs": [
    {
     "data": {
      "text/plain": [
       "array([[[1, 2, 3],\n",
       "        [4, 5, 6]],\n",
       "\n",
       "       [[1, 2, 3],\n",
       "        [4, 5, 6]],\n",
       "\n",
       "       [[1, 2, 3],\n",
       "        [4, 5, 6]]])"
      ]
     },
     "execution_count": 9,
     "metadata": {},
     "output_type": "execute_result"
    }
   ],
   "source": [
    "arr4=np.array([[[1,2,3],[4,5,6]],[[1,2,3],[4,5,6]],[[1,2,3],[4,5,6]]])\n",
    "arr4"
   ]
  },
  {
   "cell_type": "code",
   "execution_count": 10,
   "id": "35def84b-651b-42f9-8a47-4bc7b556442e",
   "metadata": {},
   "outputs": [],
   "source": [
    "arr5=np.zeros(5)"
   ]
  },
  {
   "cell_type": "code",
   "execution_count": 11,
   "id": "2d2f4646-b511-4e23-82a7-abd3dd0bfa39",
   "metadata": {},
   "outputs": [
    {
     "data": {
      "text/plain": [
       "array([0., 0., 0., 0., 0.])"
      ]
     },
     "execution_count": 11,
     "metadata": {},
     "output_type": "execute_result"
    }
   ],
   "source": [
    "arr5"
   ]
  },
  {
   "cell_type": "code",
   "execution_count": 12,
   "id": "b33c4d15-a40a-4386-9ffb-e49d027bcf02",
   "metadata": {},
   "outputs": [],
   "source": [
    "arr6=np.ones(5)"
   ]
  },
  {
   "cell_type": "code",
   "execution_count": 13,
   "id": "524446c9-bbfe-430a-b78e-283fe94d96da",
   "metadata": {},
   "outputs": [
    {
     "data": {
      "text/plain": [
       "array([1., 1., 1., 1., 1.])"
      ]
     },
     "execution_count": 13,
     "metadata": {},
     "output_type": "execute_result"
    }
   ],
   "source": [
    "arr6"
   ]
  },
  {
   "cell_type": "code",
   "execution_count": 14,
   "id": "01f65135-522c-46d8-8d9d-abd10966a4f2",
   "metadata": {},
   "outputs": [],
   "source": [
    "arr7= np.zeros((2,3))"
   ]
  },
  {
   "cell_type": "code",
   "execution_count": 15,
   "id": "47ba3322-613f-44ad-bf39-a13eec3db20f",
   "metadata": {},
   "outputs": [
    {
     "data": {
      "text/plain": [
       "array([[0., 0., 0.],\n",
       "       [0., 0., 0.]])"
      ]
     },
     "execution_count": 15,
     "metadata": {},
     "output_type": "execute_result"
    }
   ],
   "source": [
    "arr7"
   ]
  },
  {
   "cell_type": "code",
   "execution_count": 16,
   "id": "ab6e4d50-0731-4857-9761-711361395731",
   "metadata": {},
   "outputs": [],
   "source": [
    "arr8=np.identity(5)"
   ]
  },
  {
   "cell_type": "code",
   "execution_count": 17,
   "id": "c493cdcd-5411-4eb4-bd56-6be9445b9155",
   "metadata": {},
   "outputs": [
    {
     "data": {
      "text/plain": [
       "array([[1., 0., 0., 0., 0.],\n",
       "       [0., 1., 0., 0., 0.],\n",
       "       [0., 0., 1., 0., 0.],\n",
       "       [0., 0., 0., 1., 0.],\n",
       "       [0., 0., 0., 0., 1.]])"
      ]
     },
     "execution_count": 17,
     "metadata": {},
     "output_type": "execute_result"
    }
   ],
   "source": [
    "arr8"
   ]
  },
  {
   "cell_type": "code",
   "execution_count": 18,
   "id": "143aaf12-95f9-49ea-8dd7-93af3a9386d3",
   "metadata": {},
   "outputs": [],
   "source": [
    "arr9=np.full((3,3),7)"
   ]
  },
  {
   "cell_type": "code",
   "execution_count": 19,
   "id": "9d11bff5-8919-428b-9029-bfadf0a7fa52",
   "metadata": {},
   "outputs": [
    {
     "data": {
      "text/plain": [
       "array([[7, 7, 7],\n",
       "       [7, 7, 7],\n",
       "       [7, 7, 7]])"
      ]
     },
     "execution_count": 19,
     "metadata": {},
     "output_type": "execute_result"
    }
   ],
   "source": [
    "arr9"
   ]
  },
  {
   "cell_type": "code",
   "execution_count": 20,
   "id": "cfcb9f93-1f11-485e-b5cd-0202ee86ace1",
   "metadata": {},
   "outputs": [],
   "source": [
    "arr10=np.arange(0,11,1)"
   ]
  },
  {
   "cell_type": "code",
   "execution_count": 21,
   "id": "0ae77916-bef0-485f-ab26-fccc706b1a87",
   "metadata": {},
   "outputs": [
    {
     "data": {
      "text/plain": [
       "array([ 0,  1,  2,  3,  4,  5,  6,  7,  8,  9, 10])"
      ]
     },
     "execution_count": 21,
     "metadata": {},
     "output_type": "execute_result"
    }
   ],
   "source": [
    "arr10"
   ]
  },
  {
   "cell_type": "code",
   "execution_count": 22,
   "id": "640dabc2-eb18-453a-9976-bafea7a99a37",
   "metadata": {},
   "outputs": [
    {
     "data": {
      "text/plain": [
       "array([ 0,  1,  2,  3,  4,  5,  6,  7,  8,  9, 10])"
      ]
     },
     "execution_count": 22,
     "metadata": {},
     "output_type": "execute_result"
    }
   ],
   "source": [
    "arr10=np.arange(0,11)\n",
    "arr10"
   ]
  },
  {
   "cell_type": "code",
   "execution_count": 23,
   "id": "daeeb7c1-7930-4e72-995b-9adc0a8837f6",
   "metadata": {},
   "outputs": [],
   "source": [
    "arr11=np.arange(10,0,-1)"
   ]
  },
  {
   "cell_type": "code",
   "execution_count": 24,
   "id": "2dce9809-084b-4a63-8e33-34daa73dec83",
   "metadata": {},
   "outputs": [
    {
     "data": {
      "text/plain": [
       "array([10,  9,  8,  7,  6,  5,  4,  3,  2,  1])"
      ]
     },
     "execution_count": 24,
     "metadata": {},
     "output_type": "execute_result"
    }
   ],
   "source": [
    "arr11"
   ]
  },
  {
   "cell_type": "code",
   "execution_count": 25,
   "id": "bc5622c7-6fd9-4ab3-aa6a-444608af3b5a",
   "metadata": {},
   "outputs": [],
   "source": [
    "arr12=np.arange(0,101,2)"
   ]
  },
  {
   "cell_type": "code",
   "execution_count": 26,
   "id": "f72cfb2f-4cc0-4bc5-afc4-1dac5c5f32ba",
   "metadata": {},
   "outputs": [
    {
     "data": {
      "text/plain": [
       "array([  0,   2,   4,   6,   8,  10,  12,  14,  16,  18,  20,  22,  24,\n",
       "        26,  28,  30,  32,  34,  36,  38,  40,  42,  44,  46,  48,  50,\n",
       "        52,  54,  56,  58,  60,  62,  64,  66,  68,  70,  72,  74,  76,\n",
       "        78,  80,  82,  84,  86,  88,  90,  92,  94,  96,  98, 100])"
      ]
     },
     "execution_count": 26,
     "metadata": {},
     "output_type": "execute_result"
    }
   ],
   "source": [
    "arr12"
   ]
  },
  {
   "cell_type": "code",
   "execution_count": 27,
   "id": "0fa8ebce-b37f-4f93-814c-8483f0bf1b27",
   "metadata": {},
   "outputs": [],
   "source": [
    "arr13=np.linspace(5,10,10)"
   ]
  },
  {
   "cell_type": "code",
   "execution_count": 28,
   "id": "9c8297a9-8ffd-4e3a-8e7a-e3bbf9609b47",
   "metadata": {},
   "outputs": [
    {
     "data": {
      "text/plain": [
       "array([ 5.        ,  5.55555556,  6.11111111,  6.66666667,  7.22222222,\n",
       "        7.77777778,  8.33333333,  8.88888889,  9.44444444, 10.        ])"
      ]
     },
     "execution_count": 28,
     "metadata": {},
     "output_type": "execute_result"
    }
   ],
   "source": [
    "arr13"
   ]
  },
  {
   "cell_type": "code",
   "execution_count": 29,
   "id": "83e76b04-221c-4d50-bdaf-4600f8cb8b46",
   "metadata": {},
   "outputs": [],
   "source": [
    "arr14=np.random.rand(2,3)"
   ]
  },
  {
   "cell_type": "code",
   "execution_count": 30,
   "id": "e42844b8-2598-4d91-8220-81cf6b929732",
   "metadata": {},
   "outputs": [
    {
     "data": {
      "text/plain": [
       "array([[0.89259129, 0.98790766, 0.16710386],\n",
       "       [0.95627692, 0.47413492, 0.37377283]])"
      ]
     },
     "execution_count": 30,
     "metadata": {},
     "output_type": "execute_result"
    }
   ],
   "source": [
    "arr14"
   ]
  },
  {
   "cell_type": "code",
   "execution_count": 31,
   "id": "07392b58-b506-4a3b-afb5-9a507009ac56",
   "metadata": {},
   "outputs": [],
   "source": [
    "arr15=np.random.randint(0,10,(2,3))"
   ]
  },
  {
   "cell_type": "code",
   "execution_count": 32,
   "id": "f6678c21-2a09-4779-a8ec-a15d08e0824b",
   "metadata": {},
   "outputs": [
    {
     "data": {
      "text/plain": [
       "array([[4, 8, 5],\n",
       "       [2, 8, 0]], dtype=int32)"
      ]
     },
     "execution_count": 32,
     "metadata": {},
     "output_type": "execute_result"
    }
   ],
   "source": [
    "arr15"
   ]
  },
  {
   "cell_type": "code",
   "execution_count": 33,
   "id": "bc18ed87-3f35-4413-8eee-91b85cc1656d",
   "metadata": {},
   "outputs": [
    {
     "data": {
      "text/plain": [
       "array([[4, 8, 5],\n",
       "       [2, 8, 0]], dtype=int32)"
      ]
     },
     "execution_count": 33,
     "metadata": {},
     "output_type": "execute_result"
    }
   ],
   "source": [
    "arr16=arr15.copy()\n",
    "arr16"
   ]
  },
  {
   "cell_type": "code",
   "execution_count": 34,
   "id": "7672a974-4b6d-4d53-98b9-6e9b17f0a103",
   "metadata": {},
   "outputs": [
    {
     "data": {
      "text/plain": [
       "(2, 3)"
      ]
     },
     "execution_count": 34,
     "metadata": {},
     "output_type": "execute_result"
    }
   ],
   "source": [
    "arr16.shape"
   ]
  },
  {
   "cell_type": "code",
   "execution_count": 35,
   "id": "fe20d80f-c388-43ff-be10-a6e1ca9766b5",
   "metadata": {},
   "outputs": [
    {
     "data": {
      "text/plain": [
       "3"
      ]
     },
     "execution_count": 35,
     "metadata": {},
     "output_type": "execute_result"
    }
   ],
   "source": [
    "arr4.ndim"
   ]
  },
  {
   "cell_type": "code",
   "execution_count": 36,
   "id": "c6ee8f8a-4900-4de4-9834-6a9a677f8a85",
   "metadata": {},
   "outputs": [
    {
     "data": {
      "text/plain": [
       "(3, 2, 3)"
      ]
     },
     "execution_count": 36,
     "metadata": {},
     "output_type": "execute_result"
    }
   ],
   "source": [
    "arr4.shape"
   ]
  },
  {
   "cell_type": "code",
   "execution_count": 37,
   "id": "6d6da172-068f-4964-b9ba-b1cd43afcd3d",
   "metadata": {},
   "outputs": [
    {
     "data": {
      "text/plain": [
       "18"
      ]
     },
     "execution_count": 37,
     "metadata": {},
     "output_type": "execute_result"
    }
   ],
   "source": [
    "arr4.size"
   ]
  },
  {
   "cell_type": "code",
   "execution_count": 38,
   "id": "6a368d6d-1bab-430a-a1f1-531c6538ac17",
   "metadata": {},
   "outputs": [
    {
     "data": {
      "text/plain": [
       "8"
      ]
     },
     "execution_count": 38,
     "metadata": {},
     "output_type": "execute_result"
    }
   ],
   "source": [
    "arr4.itemsize"
   ]
  },
  {
   "cell_type": "code",
   "execution_count": 39,
   "id": "5c932ad3-f595-480c-8882-b2aa5a84c738",
   "metadata": {},
   "outputs": [
    {
     "data": {
      "text/plain": [
       "4"
      ]
     },
     "execution_count": 39,
     "metadata": {},
     "output_type": "execute_result"
    }
   ],
   "source": [
    "arr15.itemsize"
   ]
  },
  {
   "cell_type": "code",
   "execution_count": 40,
   "id": "fe52feec-9ea9-458e-8510-4127b5c019b7",
   "metadata": {},
   "outputs": [
    {
     "data": {
      "text/plain": [
       "dtype('int32')"
      ]
     },
     "execution_count": 40,
     "metadata": {},
     "output_type": "execute_result"
    }
   ],
   "source": [
    "arr15.dtype"
   ]
  },
  {
   "cell_type": "code",
   "execution_count": 41,
   "id": "109267d6-aa69-4ae7-ad89-4fedfc060efa",
   "metadata": {},
   "outputs": [
    {
     "data": {
      "text/plain": [
       "dtype('int64')"
      ]
     },
     "execution_count": 41,
     "metadata": {},
     "output_type": "execute_result"
    }
   ],
   "source": [
    "arr4.dtype"
   ]
  },
  {
   "cell_type": "code",
   "execution_count": 42,
   "id": "127a488b-02ac-4879-afc1-8fa121145328",
   "metadata": {},
   "outputs": [
    {
     "data": {
      "text/plain": [
       "array([ 5.        ,  5.55555556,  6.11111111,  6.66666667,  7.22222222,\n",
       "        7.77777778,  8.33333333,  8.88888889,  9.44444444, 10.        ])"
      ]
     },
     "execution_count": 42,
     "metadata": {},
     "output_type": "execute_result"
    }
   ],
   "source": [
    "arr13"
   ]
  },
  {
   "cell_type": "code",
   "execution_count": 43,
   "id": "1b7b8501-39d0-45ba-9e54-a2fce63d06aa",
   "metadata": {},
   "outputs": [
    {
     "data": {
      "text/plain": [
       "dtype('float64')"
      ]
     },
     "execution_count": 43,
     "metadata": {},
     "output_type": "execute_result"
    }
   ],
   "source": [
    "arr13.dtype"
   ]
  },
  {
   "cell_type": "code",
   "execution_count": 44,
   "id": "7ca297cd-4268-456a-a3fa-04dac770021d",
   "metadata": {},
   "outputs": [
    {
     "data": {
      "text/plain": [
       "array([[[1., 2., 3.],\n",
       "        [4., 5., 6.]],\n",
       "\n",
       "       [[1., 2., 3.],\n",
       "        [4., 5., 6.]],\n",
       "\n",
       "       [[1., 2., 3.],\n",
       "        [4., 5., 6.]]])"
      ]
     },
     "execution_count": 44,
     "metadata": {},
     "output_type": "execute_result"
    }
   ],
   "source": [
    "arr4.astype('float')"
   ]
  },
  {
   "cell_type": "code",
   "execution_count": 45,
   "id": "bd353094-da13-4c56-ac3a-f141feb917c8",
   "metadata": {},
   "outputs": [
    {
     "data": {
      "text/plain": [
       "array([ 5,  5,  6,  6,  7,  7,  8,  8,  9, 10])"
      ]
     },
     "execution_count": 45,
     "metadata": {},
     "output_type": "execute_result"
    }
   ],
   "source": [
    "arr13.astype('int')"
   ]
  },
  {
   "cell_type": "code",
   "execution_count": 46,
   "id": "55eca70b-61b5-4302-916d-8bf61eab70d6",
   "metadata": {},
   "outputs": [],
   "source": [
    "np_array=np.arange(0,100)\n",
    "py_list=range(100)"
   ]
  },
  {
   "cell_type": "code",
   "execution_count": 47,
   "id": "44b0fb08-f1ad-4463-8d33-37fa8869855f",
   "metadata": {},
   "outputs": [],
   "source": [
    "import sys\n"
   ]
  },
  {
   "cell_type": "code",
   "execution_count": 48,
   "id": "cf20db5d-b539-4132-b2ca-e4e3ec664d56",
   "metadata": {},
   "outputs": [
    {
     "data": {
      "text/plain": [
       "2800"
      ]
     },
     "execution_count": 48,
     "metadata": {},
     "output_type": "execute_result"
    }
   ],
   "source": [
    "sys.getsizeof(80)*len(py_list)"
   ]
  },
  {
   "cell_type": "code",
   "execution_count": 49,
   "id": "9cecbf9b-4680-4fc5-a8ea-ac3a882fa932",
   "metadata": {},
   "outputs": [
    {
     "data": {
      "text/plain": [
       "800"
      ]
     },
     "execution_count": 49,
     "metadata": {},
     "output_type": "execute_result"
    }
   ],
   "source": [
    "np_array.itemsize*np_array.size"
   ]
  },
  {
   "cell_type": "code",
   "execution_count": 50,
   "id": "bfadbf1e-8d21-4c43-914c-f1aa7b8ea821",
   "metadata": {},
   "outputs": [
    {
     "data": {
      "text/plain": [
       "28"
      ]
     },
     "execution_count": 50,
     "metadata": {},
     "output_type": "execute_result"
    }
   ],
   "source": [
    "sys.getsizeof(80)"
   ]
  },
  {
   "cell_type": "code",
   "execution_count": 51,
   "id": "cad24e9b-eaf6-4137-924b-d99e3866e370",
   "metadata": {},
   "outputs": [
    {
     "name": "stdout",
     "output_type": "stream",
     "text": [
      "4.91664719581604\n"
     ]
    }
   ],
   "source": [
    "import time\n",
    "x=range(10000000)\n",
    "y=range(10000000,20000000)\n",
    "start_time=time.time()\n",
    "c=[x+y for x,y in zip(x,y)]\n",
    "print(time.time()-start_time)\n"
   ]
  },
  {
   "cell_type": "code",
   "execution_count": 52,
   "id": "1dd06664-c023-4b9d-b19c-7b9f8e4cf68f",
   "metadata": {},
   "outputs": [
    {
     "name": "stdout",
     "output_type": "stream",
     "text": [
      "0.03997492790222168\n"
     ]
    }
   ],
   "source": [
    "a=np.arange(100000)\n",
    "b=np.arange(100000,200000)\n",
    "start_time=time.time()\n",
    "sum=a+b\n",
    "print(time.time()-start_time)"
   ]
  },
  {
   "cell_type": "code",
   "execution_count": 53,
   "id": "bea30a7c-48ab-44bd-92c4-394aa7b1ad2b",
   "metadata": {},
   "outputs": [],
   "source": [
    "arr=np.arange(24)"
   ]
  },
  {
   "cell_type": "code",
   "execution_count": 54,
   "id": "1c163253-a4b1-4655-8c6d-9de4a75b2656",
   "metadata": {},
   "outputs": [
    {
     "data": {
      "text/plain": [
       "array([[ 0,  1,  2,  3],\n",
       "       [ 4,  5,  6,  7],\n",
       "       [ 8,  9, 10, 11],\n",
       "       [12, 13, 14, 15],\n",
       "       [16, 17, 18, 19],\n",
       "       [20, 21, 22, 23]])"
      ]
     },
     "execution_count": 54,
     "metadata": {},
     "output_type": "execute_result"
    }
   ],
   "source": [
    "arr.reshape(6,4)"
   ]
  },
  {
   "cell_type": "code",
   "execution_count": 55,
   "id": "32859273-aa98-4bb3-9a9c-87afe3de8b7e",
   "metadata": {},
   "outputs": [
    {
     "data": {
      "text/plain": [
       "np.int64(2)"
      ]
     },
     "execution_count": 55,
     "metadata": {},
     "output_type": "execute_result"
    }
   ],
   "source": [
    "arr[2]"
   ]
  },
  {
   "cell_type": "code",
   "execution_count": 56,
   "id": "4fc6cf6c-b65e-4936-9898-d8494ab612bd",
   "metadata": {},
   "outputs": [
    {
     "data": {
      "text/plain": [
       "array([ 0,  1,  2,  3,  4,  5,  6,  7,  8,  9, 10, 11, 12, 13, 14, 15, 16,\n",
       "       17, 18, 19, 20, 21, 22, 23])"
      ]
     },
     "execution_count": 56,
     "metadata": {},
     "output_type": "execute_result"
    }
   ],
   "source": [
    "arr"
   ]
  },
  {
   "cell_type": "code",
   "execution_count": 57,
   "id": "02ea4cb8-4af4-490d-a9a4-689fcc718fd7",
   "metadata": {},
   "outputs": [],
   "source": [
    "arr=arr.reshape(6,4)"
   ]
  },
  {
   "cell_type": "code",
   "execution_count": 58,
   "id": "ef68f492-bb07-4e31-b9dc-28b4757d9eb6",
   "metadata": {},
   "outputs": [
    {
     "data": {
      "text/plain": [
       "array([[ 0,  1,  2,  3],\n",
       "       [ 4,  5,  6,  7],\n",
       "       [ 8,  9, 10, 11],\n",
       "       [12, 13, 14, 15],\n",
       "       [16, 17, 18, 19],\n",
       "       [20, 21, 22, 23]])"
      ]
     },
     "execution_count": 58,
     "metadata": {},
     "output_type": "execute_result"
    }
   ],
   "source": [
    "arr"
   ]
  },
  {
   "cell_type": "code",
   "execution_count": 59,
   "id": "d41851a4-f40e-4717-94a4-870572685a1a",
   "metadata": {},
   "outputs": [
    {
     "data": {
      "text/plain": [
       "array([ 8,  9, 10, 11])"
      ]
     },
     "execution_count": 59,
     "metadata": {},
     "output_type": "execute_result"
    }
   ],
   "source": [
    "arr[2]"
   ]
  },
  {
   "cell_type": "code",
   "execution_count": 60,
   "id": "6974e2c4-b645-48ed-a80a-bff7ff2d82a3",
   "metadata": {},
   "outputs": [
    {
     "data": {
      "text/plain": [
       "array([ 2,  6, 10, 14, 18, 22])"
      ]
     },
     "execution_count": 60,
     "metadata": {},
     "output_type": "execute_result"
    }
   ],
   "source": [
    "arr[:,2]"
   ]
  },
  {
   "cell_type": "code",
   "execution_count": 61,
   "id": "4466cd70-9981-456b-bdf0-79e9a77aa372",
   "metadata": {},
   "outputs": [
    {
     "data": {
      "text/plain": [
       "np.int64(11)"
      ]
     },
     "execution_count": 61,
     "metadata": {},
     "output_type": "execute_result"
    }
   ],
   "source": [
    "arr[2,3]"
   ]
  },
  {
   "cell_type": "code",
   "execution_count": 62,
   "id": "7c1c5c0e-04a9-46ab-a75f-2e2e997ef85a",
   "metadata": {},
   "outputs": [
    {
     "data": {
      "text/plain": [
       "array([[ 2],\n",
       "       [ 6],\n",
       "       [10],\n",
       "       [14],\n",
       "       [18],\n",
       "       [22]])"
      ]
     },
     "execution_count": 62,
     "metadata": {},
     "output_type": "execute_result"
    }
   ],
   "source": [
    "arr[:,2:3]"
   ]
  },
  {
   "cell_type": "code",
   "execution_count": 63,
   "id": "af106729-36f7-4176-943f-b23b35c0d763",
   "metadata": {},
   "outputs": [
    {
     "data": {
      "text/plain": [
       "array([[ 0,  1,  2,  3],\n",
       "       [ 4,  5,  6,  7],\n",
       "       [ 8,  9, 10, 11],\n",
       "       [12, 13, 14, 15],\n",
       "       [16, 17, 18, 19],\n",
       "       [20, 21, 22, 23]])"
      ]
     },
     "execution_count": 63,
     "metadata": {},
     "output_type": "execute_result"
    }
   ],
   "source": [
    "arr"
   ]
  },
  {
   "cell_type": "code",
   "execution_count": 64,
   "id": "d6fe45b2-bcf1-456a-85b2-71cbd2ee5b27",
   "metadata": {},
   "outputs": [
    {
     "data": {
      "text/plain": [
       "array([[ 2,  3],\n",
       "       [ 6,  7],\n",
       "       [10, 11],\n",
       "       [14, 15],\n",
       "       [18, 19],\n",
       "       [22, 23]])"
      ]
     },
     "execution_count": 64,
     "metadata": {},
     "output_type": "execute_result"
    }
   ],
   "source": [
    "arr[:,2:4]"
   ]
  },
  {
   "cell_type": "code",
   "execution_count": 65,
   "id": "71373848-6146-4137-b31a-f93ab892a76b",
   "metadata": {},
   "outputs": [
    {
     "data": {
      "text/plain": [
       "array([[21, 22]])"
      ]
     },
     "execution_count": 65,
     "metadata": {},
     "output_type": "execute_result"
    }
   ],
   "source": [
    "arr[5:7,1:3]"
   ]
  },
  {
   "cell_type": "code",
   "execution_count": 66,
   "id": "2b30a553-7b22-476a-a4f9-b44c7171cd8b",
   "metadata": {},
   "outputs": [
    {
     "data": {
      "text/plain": [
       "array([[ 0,  1,  2,  3],\n",
       "       [ 4,  5,  6,  7],\n",
       "       [ 8,  9, 10, 11],\n",
       "       [12, 13, 14, 15],\n",
       "       [16, 17, 18, 19],\n",
       "       [20, 21, 22, 23]])"
      ]
     },
     "execution_count": 66,
     "metadata": {},
     "output_type": "execute_result"
    }
   ],
   "source": [
    "arr"
   ]
  },
  {
   "cell_type": "code",
   "execution_count": 67,
   "id": "16ece753-75e7-4165-91e2-100e8512179e",
   "metadata": {},
   "outputs": [
    {
     "data": {
      "text/plain": [
       "array([[18, 19],\n",
       "       [22, 23]])"
      ]
     },
     "execution_count": 67,
     "metadata": {},
     "output_type": "execute_result"
    }
   ],
   "source": [
    "arr[4:6,2:4]"
   ]
  },
  {
   "cell_type": "code",
   "execution_count": 68,
   "id": "b09a4422-bf47-43ab-9671-bad11e4b5e06",
   "metadata": {},
   "outputs": [
    {
     "data": {
      "text/plain": [
       "array([[ 0,  1,  2,  3],\n",
       "       [ 4,  5,  6,  7],\n",
       "       [ 8,  9, 10, 11],\n",
       "       [12, 13, 14, 15],\n",
       "       [16, 17, 18, 19],\n",
       "       [20, 21, 22, 23]])"
      ]
     },
     "execution_count": 68,
     "metadata": {},
     "output_type": "execute_result"
    }
   ],
   "source": [
    "arr"
   ]
  },
  {
   "cell_type": "code",
   "execution_count": 69,
   "id": "bf996edd-6b34-49c8-9c10-867873749105",
   "metadata": {},
   "outputs": [
    {
     "name": "stdout",
     "output_type": "stream",
     "text": [
      "[0 1 2 3]\n",
      "[4 5 6 7]\n",
      "[ 8  9 10 11]\n",
      "[12 13 14 15]\n",
      "[16 17 18 19]\n",
      "[20 21 22 23]\n"
     ]
    }
   ],
   "source": [
    "for i in arr:\n",
    "    print(i)"
   ]
  },
  {
   "cell_type": "code",
   "execution_count": 70,
   "id": "0873ae57-be28-4610-9cfd-c54506458cb4",
   "metadata": {},
   "outputs": [
    {
     "name": "stdout",
     "output_type": "stream",
     "text": [
      "0\n",
      "1\n",
      "2\n",
      "3\n",
      "4\n",
      "5\n",
      "6\n",
      "7\n",
      "8\n",
      "9\n",
      "10\n",
      "11\n",
      "12\n",
      "13\n",
      "14\n",
      "15\n",
      "16\n",
      "17\n",
      "18\n",
      "19\n",
      "20\n",
      "21\n",
      "22\n",
      "23\n"
     ]
    }
   ],
   "source": [
    "for i in np.nditer(arr):\n",
    "    print(i)"
   ]
  },
  {
   "cell_type": "code",
   "execution_count": 71,
   "id": "36b9ac6c-13e1-4a33-af82-de82ae087cc9",
   "metadata": {},
   "outputs": [
    {
     "data": {
      "text/plain": [
       "array([ 7,  9, 11, 13, 15])"
      ]
     },
     "execution_count": 71,
     "metadata": {},
     "output_type": "execute_result"
    }
   ],
   "source": [
    "arr1=np.array([1,2,3,4,5])\n",
    "arr2=np.array([6,7,8,9,10])\n",
    "arr1+arr2"
   ]
  },
  {
   "cell_type": "code",
   "execution_count": 72,
   "id": "f2f17776-e2eb-4b15-b08b-28f61910adc5",
   "metadata": {},
   "outputs": [
    {
     "data": {
      "text/plain": [
       "array([1, 2, 3, 4, 5])"
      ]
     },
     "execution_count": 72,
     "metadata": {},
     "output_type": "execute_result"
    }
   ],
   "source": [
    "arr1"
   ]
  },
  {
   "cell_type": "code",
   "execution_count": 73,
   "id": "a5b59182-d298-4723-9f7a-dca4cdafa131",
   "metadata": {},
   "outputs": [
    {
     "data": {
      "text/plain": [
       "array([ 6,  7,  8,  9, 10])"
      ]
     },
     "execution_count": 73,
     "metadata": {},
     "output_type": "execute_result"
    }
   ],
   "source": [
    "arr2"
   ]
  },
  {
   "cell_type": "code",
   "execution_count": 74,
   "id": "99b273fc-794a-4674-81d0-904fc8861629",
   "metadata": {},
   "outputs": [
    {
     "data": {
      "text/plain": [
       "array([ 6, 14, 24, 36, 50])"
      ]
     },
     "execution_count": 74,
     "metadata": {},
     "output_type": "execute_result"
    }
   ],
   "source": [
    "arr1*arr2"
   ]
  },
  {
   "cell_type": "code",
   "execution_count": 75,
   "id": "36600bac-8553-4a17-a342-683f7b367a27",
   "metadata": {},
   "outputs": [
    {
     "data": {
      "text/plain": [
       "array([-5, -5, -5, -5, -5])"
      ]
     },
     "execution_count": 75,
     "metadata": {},
     "output_type": "execute_result"
    }
   ],
   "source": [
    "arr1-arr2"
   ]
  },
  {
   "cell_type": "code",
   "execution_count": 76,
   "id": "fa50b2ff-273c-4c06-b69c-14a59d78f876",
   "metadata": {},
   "outputs": [
    {
     "data": {
      "text/plain": [
       "array([0.16666667, 0.28571429, 0.375     , 0.44444444, 0.5       ])"
      ]
     },
     "execution_count": 76,
     "metadata": {},
     "output_type": "execute_result"
    }
   ],
   "source": [
    "arr1/arr2"
   ]
  },
  {
   "cell_type": "code",
   "execution_count": 77,
   "id": "6d8b56fb-dcbf-48c6-bd74-3f2a1d65906f",
   "metadata": {},
   "outputs": [
    {
     "data": {
      "text/plain": [
       "array([0, 0, 0, 0, 0])"
      ]
     },
     "execution_count": 77,
     "metadata": {},
     "output_type": "execute_result"
    }
   ],
   "source": [
    "arr1//arr2"
   ]
  },
  {
   "cell_type": "code",
   "execution_count": 78,
   "id": "90195c16-dd91-4e80-97d0-e51fe84293b7",
   "metadata": {},
   "outputs": [],
   "source": [
    "arr1=np.arange(0,6).reshape(2,3)\n",
    "arr2=np.arange(6,12).reshape(3,2)\n"
   ]
  },
  {
   "cell_type": "code",
   "execution_count": 79,
   "id": "5e6c391f-c9c2-4432-8998-db2fab5fadf7",
   "metadata": {},
   "outputs": [
    {
     "data": {
      "text/plain": [
       "array([[ 28,  31],\n",
       "       [100, 112]])"
      ]
     },
     "execution_count": 79,
     "metadata": {},
     "output_type": "execute_result"
    }
   ],
   "source": [
    "arr1.dot(arr2)"
   ]
  },
  {
   "cell_type": "code",
   "execution_count": 80,
   "id": "23fd7483-903f-4a1c-9bb8-2aca9a26e7b2",
   "metadata": {},
   "outputs": [
    {
     "data": {
      "text/plain": [
       "array([[0, 1, 2],\n",
       "       [3, 4, 5]])"
      ]
     },
     "execution_count": 80,
     "metadata": {},
     "output_type": "execute_result"
    }
   ],
   "source": [
    "arr1"
   ]
  },
  {
   "cell_type": "code",
   "execution_count": 81,
   "id": "a94f3d63-1430-428d-847e-2ad7dd37827b",
   "metadata": {},
   "outputs": [
    {
     "data": {
      "text/plain": [
       "array([[False, False, False],\n",
       "       [False,  True,  True]])"
      ]
     },
     "execution_count": 81,
     "metadata": {},
     "output_type": "execute_result"
    }
   ],
   "source": [
    "arr1>3"
   ]
  },
  {
   "cell_type": "code",
   "execution_count": 82,
   "id": "3ad9b464-728d-4af7-a52f-aa89beabe19b",
   "metadata": {},
   "outputs": [
    {
     "data": {
      "text/plain": [
       "array([[0, 1, 2],\n",
       "       [3, 4, 5]])"
      ]
     },
     "execution_count": 82,
     "metadata": {},
     "output_type": "execute_result"
    }
   ],
   "source": [
    "arr1"
   ]
  },
  {
   "cell_type": "code",
   "execution_count": 83,
   "id": "2d59652f-101f-4654-928d-6d547c3e8ec8",
   "metadata": {},
   "outputs": [
    {
     "data": {
      "text/plain": [
       "np.int64(15)"
      ]
     },
     "execution_count": 83,
     "metadata": {},
     "output_type": "execute_result"
    }
   ],
   "source": [
    "arr1.sum()"
   ]
  },
  {
   "cell_type": "code",
   "execution_count": 84,
   "id": "f2ed72e1-a3cd-4b6f-ba9a-6ec1056b1b41",
   "metadata": {},
   "outputs": [
    {
     "data": {
      "text/plain": [
       "np.int64(0)"
      ]
     },
     "execution_count": 84,
     "metadata": {},
     "output_type": "execute_result"
    }
   ],
   "source": [
    "arr1.min()"
   ]
  },
  {
   "cell_type": "code",
   "execution_count": 85,
   "id": "0d97e8be-8bd6-460c-89f4-3c55a70377c7",
   "metadata": {},
   "outputs": [
    {
     "data": {
      "text/plain": [
       "np.int64(5)"
      ]
     },
     "execution_count": 85,
     "metadata": {},
     "output_type": "execute_result"
    }
   ],
   "source": [
    "arr1.max()"
   ]
  },
  {
   "cell_type": "code",
   "execution_count": 86,
   "id": "d45dd89d-ca3e-4fb5-9bf4-e9daac8cf714",
   "metadata": {},
   "outputs": [
    {
     "data": {
      "text/plain": [
       "array([[1, 2, 3],\n",
       "       [4, 5, 6]])"
      ]
     },
     "execution_count": 86,
     "metadata": {},
     "output_type": "execute_result"
    }
   ],
   "source": [
    "arr3"
   ]
  },
  {
   "cell_type": "code",
   "execution_count": 87,
   "id": "af90b9f3-ccf2-415d-a913-15922f73d8db",
   "metadata": {},
   "outputs": [
    {
     "data": {
      "text/plain": [
       "array([0., 0., 0., 0., 0.])"
      ]
     },
     "execution_count": 87,
     "metadata": {},
     "output_type": "execute_result"
    }
   ],
   "source": [
    "arr5"
   ]
  },
  {
   "cell_type": "code",
   "execution_count": 88,
   "id": "54740c32-e3c3-4a37-a59d-d51f730cd16a",
   "metadata": {},
   "outputs": [
    {
     "data": {
      "text/plain": [
       "array([1., 1., 1., 1., 1.])"
      ]
     },
     "execution_count": 88,
     "metadata": {},
     "output_type": "execute_result"
    }
   ],
   "source": [
    "arr6"
   ]
  },
  {
   "cell_type": "code",
   "execution_count": 89,
   "id": "876ce511-8d66-4ac4-b341-115def6a9eb3",
   "metadata": {},
   "outputs": [
    {
     "data": {
      "text/plain": [
       "array([[1., 0., 0., 0., 0.],\n",
       "       [0., 1., 0., 0., 0.],\n",
       "       [0., 0., 1., 0., 0.],\n",
       "       [0., 0., 0., 1., 0.],\n",
       "       [0., 0., 0., 0., 1.]])"
      ]
     },
     "execution_count": 89,
     "metadata": {},
     "output_type": "execute_result"
    }
   ],
   "source": [
    "arr8"
   ]
  },
  {
   "cell_type": "code",
   "execution_count": 90,
   "id": "5e0a0aad-8077-4247-a4a3-23ca74b90a6a",
   "metadata": {},
   "outputs": [
    {
     "data": {
      "text/plain": [
       "array([[7, 7, 7],\n",
       "       [7, 7, 7],\n",
       "       [7, 7, 7]])"
      ]
     },
     "execution_count": 90,
     "metadata": {},
     "output_type": "execute_result"
    }
   ],
   "source": [
    "arr9"
   ]
  },
  {
   "cell_type": "code",
   "execution_count": 91,
   "id": "64542473-52e6-4bc8-944c-ae9fd712b3e2",
   "metadata": {},
   "outputs": [
    {
     "data": {
      "text/plain": [
       "array([ 0,  1,  2,  3,  4,  5,  6,  7,  8,  9, 10])"
      ]
     },
     "execution_count": 91,
     "metadata": {},
     "output_type": "execute_result"
    }
   ],
   "source": [
    "arr10"
   ]
  },
  {
   "cell_type": "code",
   "execution_count": 92,
   "id": "22efa298-cef1-4d86-8440-b3036af29125",
   "metadata": {},
   "outputs": [
    {
     "data": {
      "text/plain": [
       "array([10,  9,  8,  7,  6,  5,  4,  3,  2,  1])"
      ]
     },
     "execution_count": 92,
     "metadata": {},
     "output_type": "execute_result"
    }
   ],
   "source": [
    "arr11"
   ]
  },
  {
   "cell_type": "code",
   "execution_count": 93,
   "id": "8daf0be0-deaf-48eb-8f28-44430c4238dc",
   "metadata": {},
   "outputs": [
    {
     "data": {
      "text/plain": [
       "array([  0,   2,   4,   6,   8,  10,  12,  14,  16,  18,  20,  22,  24,\n",
       "        26,  28,  30,  32,  34,  36,  38,  40,  42,  44,  46,  48,  50,\n",
       "        52,  54,  56,  58,  60,  62,  64,  66,  68,  70,  72,  74,  76,\n",
       "        78,  80,  82,  84,  86,  88,  90,  92,  94,  96,  98, 100])"
      ]
     },
     "execution_count": 93,
     "metadata": {},
     "output_type": "execute_result"
    }
   ],
   "source": [
    "arr12"
   ]
  },
  {
   "cell_type": "code",
   "execution_count": 94,
   "id": "001c74ed-a957-44e5-a851-3e0422510b1e",
   "metadata": {},
   "outputs": [
    {
     "data": {
      "text/plain": [
       "np.int64(2550)"
      ]
     },
     "execution_count": 94,
     "metadata": {},
     "output_type": "execute_result"
    }
   ],
   "source": [
    "arr12.sum(axis=0)"
   ]
  },
  {
   "cell_type": "code",
   "execution_count": 95,
   "id": "1405c4aa-8bc8-4111-a0f1-a9490356a08a",
   "metadata": {},
   "outputs": [
    {
     "data": {
      "text/plain": [
       "array([2.04760281, 1.80418467])"
      ]
     },
     "execution_count": 95,
     "metadata": {},
     "output_type": "execute_result"
    }
   ],
   "source": [
    "arr14.sum(axis=1)"
   ]
  },
  {
   "cell_type": "code",
   "execution_count": 96,
   "id": "500b58fe-927c-4246-9ff4-33a1f875cff8",
   "metadata": {},
   "outputs": [
    {
     "data": {
      "text/plain": [
       "array([1.84886821, 1.46204257, 0.54087669])"
      ]
     },
     "execution_count": 96,
     "metadata": {},
     "output_type": "execute_result"
    }
   ],
   "source": [
    "arr14.sum(axis=0)"
   ]
  },
  {
   "cell_type": "code",
   "execution_count": 97,
   "id": "0cf997ab-39ad-4f31-bc69-d89fc6b55a7b",
   "metadata": {},
   "outputs": [
    {
     "data": {
      "text/plain": [
       "np.float64(0.31803273383399244)"
      ]
     },
     "execution_count": 97,
     "metadata": {},
     "output_type": "execute_result"
    }
   ],
   "source": [
    "arr14.std()"
   ]
  },
  {
   "cell_type": "code",
   "execution_count": 98,
   "id": "1e11166d-d7c3-49ff-83de-0396451a7bf9",
   "metadata": {},
   "outputs": [
    {
     "data": {
      "text/plain": [
       "array([1.11803399, 1.11803399, 1.11803399, 1.11803399, 1.11803399,\n",
       "       1.11803399])"
      ]
     },
     "execution_count": 98,
     "metadata": {},
     "output_type": "execute_result"
    }
   ],
   "source": [
    "arr.std(axis=1)"
   ]
  },
  {
   "cell_type": "code",
   "execution_count": 99,
   "id": "69310ce3-250e-4ecb-91da-fd54b9d881c7",
   "metadata": {},
   "outputs": [
    {
     "data": {
      "text/plain": [
       "np.float64(11.5)"
      ]
     },
     "execution_count": 99,
     "metadata": {},
     "output_type": "execute_result"
    }
   ],
   "source": [
    "np.median(arr)"
   ]
  },
  {
   "cell_type": "code",
   "execution_count": 100,
   "id": "bc522b2c-e572-4370-a974-7d4c6b5ebb41",
   "metadata": {},
   "outputs": [
    {
     "data": {
      "text/plain": [
       "array([[ 0.        ,  0.84147098,  0.90929743,  0.14112001],\n",
       "       [-0.7568025 , -0.95892427, -0.2794155 ,  0.6569866 ],\n",
       "       [ 0.98935825,  0.41211849, -0.54402111, -0.99999021],\n",
       "       [-0.53657292,  0.42016704,  0.99060736,  0.65028784],\n",
       "       [-0.28790332, -0.96139749, -0.75098725,  0.14987721],\n",
       "       [ 0.91294525,  0.83665564, -0.00885131, -0.8462204 ]])"
      ]
     },
     "execution_count": 100,
     "metadata": {},
     "output_type": "execute_result"
    }
   ],
   "source": [
    "np.sin(arr)"
   ]
  },
  {
   "cell_type": "code",
   "execution_count": 101,
   "id": "ec6bb1f9-a43d-43f6-88ae-856af899db96",
   "metadata": {},
   "outputs": [
    {
     "data": {
      "text/plain": [
       "array([[0.77870013, 0.8348761 , 0.16632725],\n",
       "       [0.81705063, 0.45656897, 0.36513037]])"
      ]
     },
     "execution_count": 101,
     "metadata": {},
     "output_type": "execute_result"
    }
   ],
   "source": [
    "np.sin(arr14)"
   ]
  },
  {
   "cell_type": "code",
   "execution_count": 102,
   "id": "64acaf7e-e4e4-4295-93d4-dfa52e95dd2f",
   "metadata": {},
   "outputs": [
    {
     "data": {
      "text/plain": [
       "array([0.89259129, 0.47413492, 0.16710386])"
      ]
     },
     "execution_count": 102,
     "metadata": {},
     "output_type": "execute_result"
    }
   ],
   "source": [
    "arr14.min(axis=0)"
   ]
  },
  {
   "cell_type": "code",
   "execution_count": 103,
   "id": "10a8ea14-c011-4761-96db-9529d73d4e9b",
   "metadata": {},
   "outputs": [
    {
     "data": {
      "text/plain": [
       "array([[[1, 2, 3],\n",
       "        [4, 5, 6]],\n",
       "\n",
       "       [[1, 2, 3],\n",
       "        [4, 5, 6]],\n",
       "\n",
       "       [[1, 2, 3],\n",
       "        [4, 5, 6]]])"
      ]
     },
     "execution_count": 103,
     "metadata": {},
     "output_type": "execute_result"
    }
   ],
   "source": [
    "arr4"
   ]
  },
  {
   "cell_type": "code",
   "execution_count": 104,
   "id": "9f48c08b-6463-4f87-9950-d87dfb9ce3fd",
   "metadata": {},
   "outputs": [
    {
     "data": {
      "text/plain": [
       "array([1, 2, 3, 4, 5, 6, 1, 2, 3, 4, 5, 6, 1, 2, 3, 4, 5, 6])"
      ]
     },
     "execution_count": 104,
     "metadata": {},
     "output_type": "execute_result"
    }
   ],
   "source": [
    "arr4.ravel()"
   ]
  },
  {
   "cell_type": "code",
   "execution_count": 105,
   "id": "3a238379-6f75-4b04-b3f9-53ede4e35b00",
   "metadata": {},
   "outputs": [
    {
     "data": {
      "text/plain": [
       "array([[0.89259129, 0.98790766, 0.16710386],\n",
       "       [0.95627692, 0.47413492, 0.37377283]])"
      ]
     },
     "execution_count": 105,
     "metadata": {},
     "output_type": "execute_result"
    }
   ],
   "source": [
    "arr14"
   ]
  },
  {
   "cell_type": "code",
   "execution_count": 106,
   "id": "c9178f34-e187-490c-90a6-5c196e34cd0b",
   "metadata": {},
   "outputs": [
    {
     "data": {
      "text/plain": [
       "array([0.89259129, 0.98790766, 0.16710386, 0.95627692, 0.47413492,\n",
       "       0.37377283])"
      ]
     },
     "execution_count": 106,
     "metadata": {},
     "output_type": "execute_result"
    }
   ],
   "source": [
    "arr14.ravel()"
   ]
  },
  {
   "cell_type": "code",
   "execution_count": 107,
   "id": "e3c7e959-eba5-4296-8ebe-b8c6037e6f2e",
   "metadata": {},
   "outputs": [
    {
     "data": {
      "text/plain": [
       "array([[[1, 1, 1],\n",
       "        [4, 4, 4]],\n",
       "\n",
       "       [[2, 2, 2],\n",
       "        [5, 5, 5]],\n",
       "\n",
       "       [[3, 3, 3],\n",
       "        [6, 6, 6]]])"
      ]
     },
     "execution_count": 107,
     "metadata": {},
     "output_type": "execute_result"
    }
   ],
   "source": [
    "arr4.transpose()"
   ]
  },
  {
   "cell_type": "code",
   "execution_count": 108,
   "id": "373a4388-d0b1-48b9-990c-8ce2d5d00cb7",
   "metadata": {},
   "outputs": [
    {
     "data": {
      "text/plain": [
       "array([[[1, 2, 3],\n",
       "        [4, 5, 6]],\n",
       "\n",
       "       [[1, 2, 3],\n",
       "        [4, 5, 6]],\n",
       "\n",
       "       [[1, 2, 3],\n",
       "        [4, 5, 6]]])"
      ]
     },
     "execution_count": 108,
     "metadata": {},
     "output_type": "execute_result"
    }
   ],
   "source": [
    "arr4"
   ]
  },
  {
   "cell_type": "code",
   "execution_count": 109,
   "id": "71bdf352-82f0-4ce4-aa33-df8d4bd9bec6",
   "metadata": {},
   "outputs": [
    {
     "data": {
      "text/plain": [
       "array([1, 2, 3, 4, 5, 6])"
      ]
     },
     "execution_count": 109,
     "metadata": {},
     "output_type": "execute_result"
    }
   ],
   "source": [
    "arr3.ravel()"
   ]
  },
  {
   "cell_type": "code",
   "execution_count": 110,
   "id": "2652236a-3666-41c0-a229-684c2d367fe0",
   "metadata": {},
   "outputs": [
    {
     "data": {
      "text/plain": [
       "array([[1, 2, 3],\n",
       "       [4, 5, 6]])"
      ]
     },
     "execution_count": 110,
     "metadata": {},
     "output_type": "execute_result"
    }
   ],
   "source": [
    "arr3"
   ]
  },
  {
   "cell_type": "code",
   "execution_count": 111,
   "id": "eb980a4e-9074-4b21-94c0-abf5a05a83b0",
   "metadata": {},
   "outputs": [
    {
     "data": {
      "text/plain": [
       "array([0., 0., 0., 0., 0.])"
      ]
     },
     "execution_count": 111,
     "metadata": {},
     "output_type": "execute_result"
    }
   ],
   "source": [
    "arr5"
   ]
  },
  {
   "cell_type": "code",
   "execution_count": 112,
   "id": "0955cbab-5e5c-44de-97ef-6c5704dafe71",
   "metadata": {},
   "outputs": [
    {
     "ename": "ValueError",
     "evalue": "all the input arrays must have same number of dimensions, but the array at index 0 has 2 dimension(s) and the array at index 1 has 1 dimension(s)",
     "output_type": "error",
     "traceback": [
      "\u001b[31m---------------------------------------------------------------------------\u001b[39m",
      "\u001b[31mValueError\u001b[39m                                Traceback (most recent call last)",
      "\u001b[36mCell\u001b[39m\u001b[36m \u001b[39m\u001b[32mIn[112]\u001b[39m\u001b[32m, line 1\u001b[39m\n\u001b[32m----> \u001b[39m\u001b[32m1\u001b[39m new_arr=np.hstack((arr3,arr5))\n",
      "\u001b[36mFile \u001b[39m\u001b[32mC:\\Anaconda3\\envs\\numpy_training\\Lib\\site-packages\\numpy\\_core\\shape_base.py:367\u001b[39m, in \u001b[36mhstack\u001b[39m\u001b[34m(tup, dtype, casting)\u001b[39m\n\u001b[32m    365\u001b[39m     \u001b[38;5;28;01mreturn\u001b[39;00m _nx.concatenate(arrs, \u001b[32m0\u001b[39m, dtype=dtype, casting=casting)\n\u001b[32m    366\u001b[39m \u001b[38;5;28;01melse\u001b[39;00m:\n\u001b[32m--> \u001b[39m\u001b[32m367\u001b[39m     \u001b[38;5;28;01mreturn\u001b[39;00m _nx.concatenate(arrs, \u001b[32m1\u001b[39m, dtype=dtype, casting=casting)\n",
      "\u001b[31mValueError\u001b[39m: all the input arrays must have same number of dimensions, but the array at index 0 has 2 dimension(s) and the array at index 1 has 1 dimension(s)"
     ]
    }
   ],
   "source": [
    "new_arr=np.hstack((arr3,arr5))"
   ]
  },
  {
   "cell_type": "code",
   "execution_count": null,
   "id": "f9a1d54e-055e-429a-84f8-031d6dce111e",
   "metadata": {},
   "outputs": [],
   "source": [
    "new_arr"
   ]
  },
  {
   "cell_type": "code",
   "execution_count": null,
   "id": "0fe6bcdf-db01-4281-b0c8-4151e1f743da",
   "metadata": {},
   "outputs": [],
   "source": [
    "arr=np.arange(2*2*2*2).reshape(2,2,2,2)"
   ]
  },
  {
   "cell_type": "code",
   "execution_count": null,
   "id": "30529f66-e94a-4cfe-beaa-866f3e4b4a01",
   "metadata": {},
   "outputs": [],
   "source": [
    "arr"
   ]
  },
  {
   "cell_type": "code",
   "execution_count": null,
   "id": "29792dea-ae6f-4739-9a91-eabfa15e2c3b",
   "metadata": {},
   "outputs": [],
   "source": [
    "arr=arr.ravel()\n",
    "arr"
   ]
  },
  {
   "cell_type": "code",
   "execution_count": null,
   "id": "1e365e70-c6f6-47b1-ae8e-27ee8f9448f3",
   "metadata": {},
   "outputs": [],
   "source": [
    "new_arr"
   ]
  },
  {
   "cell_type": "code",
   "execution_count": null,
   "id": "d40a2dad-be40-49a8-9bff-7f4ae90bd6b2",
   "metadata": {},
   "outputs": [],
   "source": [
    "arr=np.arange(0,11)"
   ]
  },
  {
   "cell_type": "code",
   "execution_count": null,
   "id": "cd929bb6-4f05-47bd-98d0-cdbadf514be2",
   "metadata": {},
   "outputs": [],
   "source": [
    "arr"
   ]
  },
  {
   "cell_type": "code",
   "execution_count": null,
   "id": "e060a25c-7b68-454a-bebb-688c65dc796a",
   "metadata": {},
   "outputs": [],
   "source": [
    "v_arr=np.vstack((arr,new_arr))"
   ]
  },
  {
   "cell_type": "code",
   "execution_count": null,
   "id": "a030ae70-6398-499e-a3fa-55f8e0a34892",
   "metadata": {},
   "outputs": [],
   "source": [
    "v_arr"
   ]
  },
  {
   "cell_type": "code",
   "execution_count": null,
   "id": "da5abc35-674a-4ce4-9737-8b32a1efae51",
   "metadata": {},
   "outputs": [],
   "source": [
    "v_arr.ravel()"
   ]
  },
  {
   "cell_type": "code",
   "execution_count": null,
   "id": "b6643dfa-9750-444f-b113-342b1e8d9cc9",
   "metadata": {},
   "outputs": [],
   "source": [
    "v_arr=v_arr.reshape(11,2)"
   ]
  },
  {
   "cell_type": "code",
   "execution_count": null,
   "id": "2952fac0-fa05-4e16-a0eb-3a48550ba9a2",
   "metadata": {},
   "outputs": [],
   "source": [
    "v_arr.shape"
   ]
  },
  {
   "cell_type": "code",
   "execution_count": null,
   "id": "627a2629-a685-4dda-922b-2518e8425049",
   "metadata": {},
   "outputs": [],
   "source": [
    "v_arr"
   ]
  },
  {
   "cell_type": "code",
   "execution_count": null,
   "id": "6450633e-baed-45d4-87d5-56eee1ef22cc",
   "metadata": {},
   "outputs": [],
   "source": [
    "np.hsplit(v_arr,2)"
   ]
  },
  {
   "cell_type": "code",
   "execution_count": null,
   "id": "4a462772-29d7-424f-8d7c-15eb10a19a37",
   "metadata": {},
   "outputs": [],
   "source": [
    "v_arr"
   ]
  },
  {
   "cell_type": "code",
   "execution_count": null,
   "id": "4aa59125-1ac0-49dc-9bd8-af3f37fce413",
   "metadata": {},
   "outputs": [],
   "source": [
    "v_arr=np.append(v_arr,[0,0])"
   ]
  },
  {
   "cell_type": "code",
   "execution_count": null,
   "id": "c447ced4-8158-4c2b-833a-145a166c2607",
   "metadata": {},
   "outputs": [],
   "source": [
    "v_arr"
   ]
  },
  {
   "cell_type": "code",
   "execution_count": null,
   "id": "7675ed86-c80e-40e5-a2ce-28bf58142e52",
   "metadata": {},
   "outputs": [],
   "source": [
    "v_arr.shape"
   ]
  },
  {
   "cell_type": "code",
   "execution_count": null,
   "id": "eee190a2-ab4c-472a-acf6-f118411a0a29",
   "metadata": {},
   "outputs": [],
   "source": [
    "np.hsplit(v_arr,6)"
   ]
  },
  {
   "cell_type": "code",
   "execution_count": null,
   "id": "691c1983-3f95-46da-9896-748feb5152e6",
   "metadata": {},
   "outputs": [],
   "source": [
    "v_arr=v_arr.reshape(6,4)"
   ]
  },
  {
   "cell_type": "code",
   "execution_count": null,
   "id": "95498083-6ffc-4293-9f2a-0c7e1e09e2d7",
   "metadata": {},
   "outputs": [],
   "source": [
    "v_arr"
   ]
  },
  {
   "cell_type": "code",
   "execution_count": null,
   "id": "ae4baeb5-2606-4bc6-aff5-8d89118e8328",
   "metadata": {},
   "outputs": [],
   "source": [
    "np.vsplit(v_arr,3)"
   ]
  },
  {
   "cell_type": "code",
   "execution_count": null,
   "id": "e2439247-340d-495b-9ffd-79b0b4f6cf49",
   "metadata": {},
   "outputs": [],
   "source": [
    "arr=np.arange(24).reshape(6,4)\n",
    "arr"
   ]
  },
  {
   "cell_type": "code",
   "execution_count": null,
   "id": "e05a78b8-d664-419b-8f30-181e3e841ffd",
   "metadata": {},
   "outputs": [],
   "source": [
    "arr[[0,2,3]]"
   ]
  },
  {
   "cell_type": "code",
   "execution_count": null,
   "id": "d8eb2b82-8b44-40a9-8322-5da0dd4f8a7a",
   "metadata": {},
   "outputs": [],
   "source": [
    "arr=np.random.randint(1,100,20).reshape(4,5)\n",
    "arr"
   ]
  },
  {
   "cell_type": "code",
   "execution_count": null,
   "id": "15e71d27-ce5a-455f-be69-a1faf206b75d",
   "metadata": {},
   "outputs": [],
   "source": [
    "(arr>50) & (arr % 2!=0)"
   ]
  },
  {
   "cell_type": "code",
   "execution_count": null,
   "id": "90b502ab-5836-4058-80d7-5b379f11bb78",
   "metadata": {},
   "outputs": [],
   "source": [
    "arr[(arr>50) & (arr % 2!=0)]"
   ]
  },
  {
   "cell_type": "code",
   "execution_count": null,
   "id": "051bbaf1-af5b-4262-b4f9-62b31602df98",
   "metadata": {},
   "outputs": [],
   "source": [
    "arr[(arr>50) & (arr % 2!=0)]=1"
   ]
  },
  {
   "cell_type": "code",
   "execution_count": null,
   "id": "b7f632be-9a2d-4e28-849d-0ed845760263",
   "metadata": {},
   "outputs": [],
   "source": [
    "arr"
   ]
  },
  {
   "cell_type": "code",
   "execution_count": 120,
   "id": "71306907-089b-4776-bb5f-772a4a47cb6f",
   "metadata": {},
   "outputs": [],
   "source": [
    "x=np.linspace(-40,40,100)"
   ]
  },
  {
   "cell_type": "code",
   "execution_count": 121,
   "id": "5fde2519-f740-4092-8f94-f559e481b121",
   "metadata": {},
   "outputs": [
    {
     "data": {
      "text/plain": [
       "array([-40.        , -39.19191919, -38.38383838, -37.57575758,\n",
       "       -36.76767677, -35.95959596, -35.15151515, -34.34343434,\n",
       "       -33.53535354, -32.72727273, -31.91919192, -31.11111111,\n",
       "       -30.3030303 , -29.49494949, -28.68686869, -27.87878788,\n",
       "       -27.07070707, -26.26262626, -25.45454545, -24.64646465,\n",
       "       -23.83838384, -23.03030303, -22.22222222, -21.41414141,\n",
       "       -20.60606061, -19.7979798 , -18.98989899, -18.18181818,\n",
       "       -17.37373737, -16.56565657, -15.75757576, -14.94949495,\n",
       "       -14.14141414, -13.33333333, -12.52525253, -11.71717172,\n",
       "       -10.90909091, -10.1010101 ,  -9.29292929,  -8.48484848,\n",
       "        -7.67676768,  -6.86868687,  -6.06060606,  -5.25252525,\n",
       "        -4.44444444,  -3.63636364,  -2.82828283,  -2.02020202,\n",
       "        -1.21212121,  -0.4040404 ,   0.4040404 ,   1.21212121,\n",
       "         2.02020202,   2.82828283,   3.63636364,   4.44444444,\n",
       "         5.25252525,   6.06060606,   6.86868687,   7.67676768,\n",
       "         8.48484848,   9.29292929,  10.1010101 ,  10.90909091,\n",
       "        11.71717172,  12.52525253,  13.33333333,  14.14141414,\n",
       "        14.94949495,  15.75757576,  16.56565657,  17.37373737,\n",
       "        18.18181818,  18.98989899,  19.7979798 ,  20.60606061,\n",
       "        21.41414141,  22.22222222,  23.03030303,  23.83838384,\n",
       "        24.64646465,  25.45454545,  26.26262626,  27.07070707,\n",
       "        27.87878788,  28.68686869,  29.49494949,  30.3030303 ,\n",
       "        31.11111111,  31.91919192,  32.72727273,  33.53535354,\n",
       "        34.34343434,  35.15151515,  35.95959596,  36.76767677,\n",
       "        37.57575758,  38.38383838,  39.19191919,  40.        ])"
      ]
     },
     "execution_count": 121,
     "metadata": {},
     "output_type": "execute_result"
    }
   ],
   "source": [
    "x"
   ]
  },
  {
   "cell_type": "code",
   "execution_count": 122,
   "id": "555aa197-e39a-49f6-b3c6-2f8136773f9e",
   "metadata": {},
   "outputs": [
    {
     "data": {
      "text/plain": [
       "array([-0.74511316, -0.9969604 , -0.63246122,  0.12304167,  0.80247705,\n",
       "        0.98580059,  0.55967698, -0.21245326, -0.85323945, -0.96653119,\n",
       "       -0.48228862,  0.30011711,  0.89698277,  0.93931073,  0.40093277,\n",
       "       -0.38531209, -0.93334716, -0.90436313, -0.31627868,  0.46733734,\n",
       "        0.96203346,  0.86197589,  0.22902277, -0.54551809, -0.9828057 ,\n",
       "       -0.81249769, -0.13988282,  0.61921119,  0.995493  ,  0.75633557,\n",
       "        0.04959214, -0.68781042, -0.99999098, -0.69395153,  0.0411065 ,\n",
       "        0.75075145,  0.99626264,  0.62585878, -0.13146699, -0.8075165 ,\n",
       "       -0.98433866, -0.55261747,  0.22074597,  0.85763861,  0.96431712,\n",
       "        0.47483011, -0.30820902, -0.90070545, -0.93636273, -0.39313661,\n",
       "        0.39313661,  0.93636273,  0.90070545,  0.30820902, -0.47483011,\n",
       "       -0.96431712, -0.85763861, -0.22074597,  0.55261747,  0.98433866,\n",
       "        0.8075165 ,  0.13146699, -0.62585878, -0.99626264, -0.75075145,\n",
       "       -0.0411065 ,  0.69395153,  0.99999098,  0.68781042, -0.04959214,\n",
       "       -0.75633557, -0.995493  , -0.61921119,  0.13988282,  0.81249769,\n",
       "        0.9828057 ,  0.54551809, -0.22902277, -0.86197589, -0.96203346,\n",
       "       -0.46733734,  0.31627868,  0.90436313,  0.93334716,  0.38531209,\n",
       "       -0.40093277, -0.93931073, -0.89698277, -0.30011711,  0.48228862,\n",
       "        0.96653119,  0.85323945,  0.21245326, -0.55967698, -0.98580059,\n",
       "       -0.80247705, -0.12304167,  0.63246122,  0.9969604 ,  0.74511316])"
      ]
     },
     "execution_count": 122,
     "metadata": {},
     "output_type": "execute_result"
    }
   ],
   "source": [
    "y=np.sin(x)\n",
    "y"
   ]
  },
  {
   "cell_type": "code",
   "execution_count": 118,
   "id": "1cec29ca-cd8f-44dd-84e8-6171f2e01993",
   "metadata": {},
   "outputs": [
    {
     "data": {
      "text/plain": [
       "100"
      ]
     },
     "execution_count": 118,
     "metadata": {},
     "output_type": "execute_result"
    }
   ],
   "source": [
    "y.size"
   ]
  },
  {
   "cell_type": "code",
   "execution_count": 133,
   "id": "4651a61b-e019-410e-a22b-39ad61f4faee",
   "metadata": {
    "scrolled": true
   },
   "outputs": [
    {
     "data": {
      "image/png": "[encoded data removed]",
      "text/plain": [
       "<Figure size 640x480 with 1 Axes>"
      ]
     },
     "metadata": {},
     "output_type": "display_data"
    }
   ],
   "source": [
    "import matplotlib.pyplot as plt\n",
    "plt.plot(x,y)\n",
    "plt.show()"
   ]
  },
  {
   "cell_type": "code",
   "execution_count": 132,
   "id": "4be24bd9-c01b-4baf-b927-7288a79159ae",
   "metadata": {},
   "outputs": [],
   "source": [
    "y=x*x+2*x+6"
   ]
  },
  {
   "cell_type": "code",
   "execution_count": 134,
   "id": "7ea6d8c8-f0fc-4653-8d37-f128c9dca778",
   "metadata": {},
   "outputs": [
    {
     "data": {
      "text/plain": [
       "array([[ 8, 10, 12, 14],\n",
       "       [16, 18, 20, 22]])"
      ]
     },
     "execution_count": 134,
     "metadata": {},
     "output_type": "execute_result"
    }
   ],
   "source": [
    "arr1=np.arange(8).reshape(2,4)\n",
    "arr2=np.arange(8,16).reshape(2,4)\n",
    "arr1+arr2"
   ]
  },
  {
   "cell_type": "code",
   "execution_count": 135,
   "id": "a83dab76-e4b4-4db4-82c2-2eae1d399ad5",
   "metadata": {},
   "outputs": [
    {
     "data": {
      "text/plain": [
       "array([[ 0,  2,  4],\n",
       "       [ 3,  5,  7],\n",
       "       [ 6,  8, 10],\n",
       "       [ 9, 11, 13]])"
      ]
     },
     "execution_count": 135,
     "metadata": {},
     "output_type": "execute_result"
    }
   ],
   "source": [
    "arr1=np.arange(3).reshape(1,3)\n",
    "arr2=np.arange(12).reshape(4,3)\n",
    "arr1+arr2"
   ]
  },
  {
   "cell_type": "code",
   "execution_count": 139,
   "id": "382e7fad-73d2-4ea3-998f-bb5d3bf5e107",
   "metadata": {},
   "outputs": [
    {
     "data": {
      "text/plain": [
       "array([[ 8,  9, 10, 11],\n",
       "       [ 9, 10, 11, 12],\n",
       "       [10, 11, 12, 13],\n",
       "       [11, 12, 13, 14]])"
      ]
     },
     "execution_count": 139,
     "metadata": {},
     "output_type": "execute_result"
    }
   ],
   "source": [
    "arr1=np.arange(4).reshape(4,1)\n",
    "arr2=np.arange(8,12).reshape(1,4)\n",
    "arr1+arr2                                      "
   ]
  },
  {
   "cell_type": "code",
   "execution_count": 147,
   "id": "ba5c5572-c64c-4807-be9c-bab7c77af92f",
   "metadata": {},
   "outputs": [
    {
     "data": {
      "text/plain": [
       "0.7203244934421581"
      ]
     },
     "execution_count": 147,
     "metadata": {},
     "output_type": "execute_result"
    }
   ],
   "source": [
    "np.random.random()"
   ]
  },
  {
   "cell_type": "code",
   "execution_count": 148,
   "id": "1f26af29-a907-4498-a0a8-b6c611466cf5",
   "metadata": {},
   "outputs": [
    {
     "data": {
      "text/plain": [
       "0.417022004702574"
      ]
     },
     "execution_count": 148,
     "metadata": {},
     "output_type": "execute_result"
    }
   ],
   "source": [
    "np.random.seed(1)\n",
    "np.random.random()"
   ]
  },
  {
   "cell_type": "code",
   "execution_count": 165,
   "id": "f44d3f54-0db3-412f-843a-8e7549ebdb55",
   "metadata": {},
   "outputs": [
    {
     "data": {
      "text/plain": [
       "array([[ 5.94539244, 54.05374419, 66.71566988, 51.97402209],\n",
       "       [94.51488084, 59.06894901, 90.43678961, 14.60999571],\n",
       "       [14.78835838, 80.93173758, 40.37000686, 17.37006551]])"
      ]
     },
     "execution_count": 165,
     "metadata": {},
     "output_type": "execute_result"
    }
   ],
   "source": [
    "np.random.uniform(1,100,12).reshape(3,4)"
   ]
  },
  {
   "cell_type": "code",
   "execution_count": 168,
   "id": "d1fa04a0-26a0-4f52-9dd9-cf24dc41845e",
   "metadata": {},
   "outputs": [],
   "source": [
    "a=np.random.randint(2,10,5)"
   ]
  },
  {
   "cell_type": "code",
   "execution_count": 169,
   "id": "fa6b61bd-1d13-4989-adb9-9c5c9683b755",
   "metadata": {},
   "outputs": [
    {
     "data": {
      "text/plain": [
       "array([7, 4, 9, 6, 3], dtype=int32)"
      ]
     },
     "execution_count": 169,
     "metadata": {},
     "output_type": "execute_result"
    }
   ],
   "source": [
    "a"
   ]
  },
  {
   "cell_type": "code",
   "execution_count": 170,
   "id": "643d70ca-2c33-421c-8f6f-592f7ce6d089",
   "metadata": {},
   "outputs": [
    {
     "data": {
      "text/plain": [
       "np.int32(3)"
      ]
     },
     "execution_count": 170,
     "metadata": {},
     "output_type": "execute_result"
    }
   ],
   "source": [
    "np.min(a)\n"
   ]
  },
  {
   "cell_type": "code",
   "execution_count": 171,
   "id": "27747d73-2b7b-4325-8a31-3ccaf20a7062",
   "metadata": {},
   "outputs": [
    {
     "data": {
      "text/plain": [
       "np.int32(9)"
      ]
     },
     "execution_count": 171,
     "metadata": {},
     "output_type": "execute_result"
    }
   ],
   "source": [
    "np.max(a)"
   ]
  },
  {
   "cell_type": "code",
   "execution_count": 172,
   "id": "4880191c-c617-4935-91b4-479ba2ccecf4",
   "metadata": {},
   "outputs": [
    {
     "data": {
      "text/plain": [
       "np.float64(5.8)"
      ]
     },
     "execution_count": 172,
     "metadata": {},
     "output_type": "execute_result"
    }
   ],
   "source": [
    "np.mean(a)"
   ]
  },
  {
   "cell_type": "code",
   "execution_count": 175,
   "id": "28151bfb-640f-47d2-b068-238d0467751e",
   "metadata": {},
   "outputs": [
    {
     "data": {
      "text/plain": [
       "np.float64(2.1354156504062622)"
      ]
     },
     "execution_count": 175,
     "metadata": {},
     "output_type": "execute_result"
    }
   ],
   "source": [
    "np.std(a)"
   ]
  },
  {
   "cell_type": "code",
   "execution_count": 180,
   "id": "f92c5de7-c9ac-494d-8163-78b4a87927fd",
   "metadata": {},
   "outputs": [
    {
     "data": {
      "text/plain": [
       "np.int32(9)"
      ]
     },
     "execution_count": 180,
     "metadata": {},
     "output_type": "execute_result"
    }
   ],
   "source": [
    "a[np.argmax(a)]"
   ]
  },
  {
   "cell_type": "code",
   "execution_count": 178,
   "id": "e8ff4d78-b3b3-4cdd-a020-5bf9fa35a166",
   "metadata": {},
   "outputs": [
    {
     "data": {
      "text/plain": [
       "array([7, 4, 9, 6, 3], dtype=int32)"
      ]
     },
     "execution_count": 178,
     "metadata": {},
     "output_type": "execute_result"
    }
   ],
   "source": [
    "a"
   ]
  },
  {
   "cell_type": "code",
   "execution_count": 179,
   "id": "642f31da-9e93-4fc5-847e-d75489879094",
   "metadata": {},
   "outputs": [
    {
     "data": {
      "text/plain": [
       "np.int64(4)"
      ]
     },
     "execution_count": 179,
     "metadata": {},
     "output_type": "execute_result"
    }
   ],
   "source": [
    "np.argmin(a)"
   ]
  },
  {
   "cell_type": "code",
   "execution_count": 181,
   "id": "35690f0a-c02b-45c5-958b-edd46e828f92",
   "metadata": {},
   "outputs": [],
   "source": [
    "b=np.sort(a)"
   ]
  },
  {
   "cell_type": "code",
   "execution_count": 182,
   "id": "68fe2afb-4713-4525-856c-5e729b0960dc",
   "metadata": {},
   "outputs": [
    {
     "data": {
      "text/plain": [
       "array([3, 4, 6, 7, 9], dtype=int32)"
      ]
     },
     "execution_count": 182,
     "metadata": {},
     "output_type": "execute_result"
    }
   ],
   "source": [
    "b"
   ]
  },
  {
   "cell_type": "code",
   "execution_count": 184,
   "id": "d44975fb-b2b5-4ad8-9e44-767380cb2f25",
   "metadata": {},
   "outputs": [],
   "source": [
    "c=np.where(a%2==0,-1,a)"
   ]
  },
  {
   "cell_type": "code",
   "execution_count": 185,
   "id": "8c23a21f-5b1d-40be-acec-c220cf46f773",
   "metadata": {},
   "outputs": [
    {
     "data": {
      "text/plain": [
       "array([ 7, -1,  9, -1,  3], dtype=int32)"
      ]
     },
     "execution_count": 185,
     "metadata": {},
     "output_type": "execute_result"
    }
   ],
   "source": [
    "c"
   ]
  },
  {
   "cell_type": "code",
   "execution_count": 187,
   "id": "a10bee8b-c18b-405d-9949-d665a674725d",
   "metadata": {},
   "outputs": [],
   "source": [
    "d=np.random.randint(10,125,50)"
   ]
  },
  {
   "cell_type": "code",
   "execution_count": 188,
   "id": "695aed50-6199-45a0-924d-bc61c11b6496",
   "metadata": {},
   "outputs": [
    {
     "data": {
      "text/plain": [
       "array([ 17,  34,  84, 102,  30,  42,  22,  75, 104,  70, 115,  34,  92,\n",
       "       107,  12, 118, 102, 113, 108,  20,  64, 106, 115,  92,  96,  80,\n",
       "        76,  81, 113,  58,  64,  25,  15,  27,  52,  30,  58,  32, 111,\n",
       "        23, 123, 124, 107,  63,  94,  20, 106,  65,  71,  66], dtype=int32)"
      ]
     },
     "execution_count": 188,
     "metadata": {},
     "output_type": "execute_result"
    }
   ],
   "source": [
    "d"
   ]
  },
  {
   "cell_type": "code",
   "execution_count": 193,
   "id": "273f0611-5286-4b6f-bb55-3f98d2582c4b",
   "metadata": {},
   "outputs": [],
   "source": [
    "def get_count_even(data):\n",
    "    return np.sum((data%2==0) & (data > 50))"
   ]
  },
  {
   "cell_type": "code",
   "execution_count": 194,
   "id": "15af5fb3-948e-48ee-b605-c87459c6db86",
   "metadata": {},
   "outputs": [
    {
     "data": {
      "text/plain": [
       "np.int64(22)"
      ]
     },
     "execution_count": 194,
     "metadata": {},
     "output_type": "execute_result"
    }
   ],
   "source": [
    "get_count_even(d)"
   ]
  },
  {
   "cell_type": "code",
   "execution_count": 200,
   "id": "065d93fd-af49-4472-a6a9-756dd6770b08",
   "metadata": {},
   "outputs": [
    {
     "data": {
      "text/plain": [
       "array([ 34,  84, 102,  30,  42,  22, 104,  70,  34,  92,  12, 118, 102,\n",
       "       108,  20,  64, 106,  92,  96,  80,  76,  58,  64,  52,  30,  58,\n",
       "        32, 124,  94,  20, 106,  66], dtype=int32)"
      ]
     },
     "execution_count": 200,
     "metadata": {},
     "output_type": "execute_result"
    }
   ],
   "source": [
    "def display_even_data(p_data):\n",
    "    return p_data[p_data%2==0]\n",
    "display_even_data(d)\n",
    "    "
   ]
  },
  {
   "cell_type": "code",
   "execution_count": 211,
   "id": "7d00ddad-4e18-4e54-8de1-51e399de2b4d",
   "metadata": {},
   "outputs": [],
   "source": [
    "def get_random_series(start,end,limit):\n",
    "    return np.random.uniform(start,end,limit)"
   ]
  },
  {
   "cell_type": "code",
   "execution_count": 212,
   "id": "04e5e1b6-a445-455d-974f-2f7e42ee1b24",
   "metadata": {},
   "outputs": [
    {
     "data": {
      "text/plain": [
       "array([4.56135338, 6.78962583, 4.40573783, 3.83376383, 7.26816115,\n",
       "       7.55782817, 7.20899515, 7.65123107, 5.95247061, 8.62642948])"
      ]
     },
     "execution_count": 212,
     "metadata": {},
     "output_type": "execute_result"
    }
   ],
   "source": [
    "get_random_series(3.14,8.72,10)"
   ]
  },
  {
   "cell_type": "code",
   "execution_count": 213,
   "id": "407a955f-362b-45bf-9bd0-22d590f6555a",
   "metadata": {},
   "outputs": [
    {
     "data": {
      "text/plain": [
       "array([5.51961763, 5.89113907, 8.56287742, 3.80693238, 6.8962689 ,\n",
       "       3.71317458, 8.63825164, 7.55520755, 8.44898095, 7.36442803])"
      ]
     },
     "execution_count": 213,
     "metadata": {},
     "output_type": "execute_result"
    }
   ],
   "source": [
    "get_random_series(3.14,8.72,10)"
   ]
  },
  {
   "cell_type": "code",
   "execution_count": 220,
   "id": "ba3d13fa-f613-496f-a74c-4111443ac87e",
   "metadata": {},
   "outputs": [],
   "source": [
    "def get_random_series_int(start,end,limit):\n",
    "    return np.random.randint(start,end+1,limit)"
   ]
  },
  {
   "cell_type": "code",
   "execution_count": 221,
   "id": "dfe7a9fe-4bd9-4080-b856-3911b5cd267f",
   "metadata": {},
   "outputs": [],
   "source": [
    "f=get_random_series_int(0,1,10000)"
   ]
  },
  {
   "cell_type": "code",
   "execution_count": 222,
   "id": "33215193-b115-478d-a85f-9779937a251b",
   "metadata": {},
   "outputs": [
    {
     "data": {
      "text/plain": [
       "array([[0, 0, 1, ..., 0, 0, 0],\n",
       "       [0, 0, 0, ..., 0, 1, 1],\n",
       "       [0, 0, 0, ..., 0, 1, 1],\n",
       "       ...,\n",
       "       [0, 0, 0, ..., 1, 0, 0],\n",
       "       [1, 1, 1, ..., 1, 1, 0],\n",
       "       [1, 1, 1, ..., 1, 0, 1]], shape=(100, 100), dtype=int32)"
      ]
     },
     "execution_count": 222,
     "metadata": {},
     "output_type": "execute_result"
    }
   ],
   "source": [
    "f.reshape(100,100)"
   ]
  },
  {
   "cell_type": "code",
   "execution_count": 227,
   "id": "52f846d7-d3ca-4773-b741-3bec6a6b9026",
   "metadata": {},
   "outputs": [
    {
     "data": {
      "text/plain": [
       "np.int64(5008)"
      ]
     },
     "execution_count": 227,
     "metadata": {},
     "output_type": "execute_result"
    }
   ],
   "source": [
    "np.sum(f==0)"
   ]
  },
  {
   "cell_type": "code",
   "execution_count": 226,
   "id": "80b81372-9199-4c38-844b-3d45cab6ad50",
   "metadata": {},
   "outputs": [
    {
     "data": {
      "text/plain": [
       "np.int64(4992)"
      ]
     },
     "execution_count": 226,
     "metadata": {},
     "output_type": "execute_result"
    }
   ],
   "source": [
    "np.sum(f==1)"
   ]
  },
  {
   "cell_type": "code",
   "execution_count": null,
   "id": "267cc8ab-3feb-406a-b1da-78da53b8aebc",
   "metadata": {},
   "outputs": [],
   "source": []
  }
 ],
 "metadata": {
  "kernelspec": {
   "display_name": "Python 3 (ipykernel)",
   "language": "python",
   "name": "python3"
  },
  "language_info": {
   "codemirror_mode": {
    "name": "ipython",
    "version": 3
   },
   "file_extension": ".py",
   "mimetype": "text/x-python",
   "name": "python",
   "nbconvert_exporter": "python",
   "pygments_lexer": "ipython3",
   "version": "3.13.5"
  }
 },
 "nbformat": 4,
 "nbformat_minor": 5
}
